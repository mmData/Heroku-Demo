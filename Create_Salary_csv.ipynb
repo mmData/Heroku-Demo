{
 "cells": [
  {
   "cell_type": "code",
   "execution_count": 1,
   "metadata": {},
   "outputs": [],
   "source": [
    "import pandas as pd\n",
    "import numpy as np"
   ]
  },
  {
   "cell_type": "code",
   "execution_count": 12,
   "metadata": {},
   "outputs": [],
   "source": [
    "d = {'experience': [np.NaN,np.NaN ,'five','two','seven','three','ten','eleven'] ,'test_score': [8,8,6,10,9,7,np.NaN,7]\n",
    "     ,'interview_score': [9,6,7,10,6,10,7,8],'salary': [50000,45000,60000,65000,70000,62000,72000,8000]\n",
    "    }\n",
    "df = pd.DataFrame(data=d)\n",
    "df.head()\n",
    "df.to_csv('hiring.csv')\n",
    "#df['experience'].isna()"
   ]
  },
  {
   "cell_type": "code",
   "execution_count": null,
   "metadata": {},
   "outputs": [],
   "source": []
  }
 ],
 "metadata": {
  "kernelspec": {
   "display_name": "Python 3",
   "language": "python",
   "name": "python3"
  },
  "language_info": {
   "codemirror_mode": {
    "name": "ipython",
    "version": 3
   },
   "file_extension": ".py",
   "mimetype": "text/x-python",
   "name": "python",
   "nbconvert_exporter": "python",
   "pygments_lexer": "ipython3",
   "version": "3.7.4"
  }
 },
 "nbformat": 4,
 "nbformat_minor": 4
}
